{
  "nbformat": 4,
  "nbformat_minor": 0,
  "metadata": {
    "colab": {
      "provenance": [],
      "authorship_tag": "ABX9TyPdg7DOH3YC54dCxfqmFEvb",
      "include_colab_link": true
    },
    "kernelspec": {
      "name": "python3",
      "display_name": "Python 3"
    },
    "language_info": {
      "name": "python"
    }
  },
  "cells": [
    {
      "cell_type": "markdown",
      "metadata": {
        "id": "view-in-github",
        "colab_type": "text"
      },
      "source": [
        "<a href=\"https://colab.research.google.com/github/mheloisagalvao/ia-ml/blob/main/hepatitis.ipynb\" target=\"_parent\"><img src=\"https://colab.research.google.com/assets/colab-badge.svg\" alt=\"Open In Colab\"/></a>"
      ]
    },
    {
      "cell_type": "code",
      "execution_count": 1,
      "metadata": {
        "colab": {
          "base_uri": "https://localhost:8080/"
        },
        "id": "B3IhhemT9wna",
        "outputId": "4072b6f8-ad7e-4fba-be12-9b70be5e6742"
      },
      "outputs": [
        {
          "output_type": "stream",
          "name": "stdout",
          "text": [
            "Collecting ucimlrepo\n",
            "  Downloading ucimlrepo-0.0.3-py3-none-any.whl (7.0 kB)\n",
            "Installing collected packages: ucimlrepo\n",
            "Successfully installed ucimlrepo-0.0.3\n"
          ]
        }
      ],
      "source": [
        "pip install ucimlrepo"
      ]
    },
    {
      "cell_type": "code",
      "source": [
        "from ucimlrepo import fetch_ucirepo\n",
        "\n",
        "# fetch dataset\n",
        "hepatitis = fetch_ucirepo(id=46)\n",
        "\n",
        "# data (as pandas dataframes)\n",
        "X = hepatitis.data.features\n",
        "y = hepatitis.data.targets\n",
        "\n",
        "# metadata\n",
        "print(hepatitis.metadata)\n",
        "\n",
        "# variable information\n",
        "print(hepatitis.variables)"
      ],
      "metadata": {
        "colab": {
          "base_uri": "https://localhost:8080/"
        },
        "id": "ug0U3qan95az",
        "outputId": "88ffbe9d-ea85-4ab0-eab2-34e76a543f16"
      },
      "execution_count": 2,
      "outputs": [
        {
          "output_type": "stream",
          "name": "stdout",
          "text": [
            "{'uci_id': 46, 'name': 'Hepatitis', 'repository_url': 'https://archive.ics.uci.edu/dataset/46/hepatitis', 'data_url': 'https://archive.ics.uci.edu/static/public/46/data.csv', 'abstract': 'From G.Gong: CMU; Mostly Boolean or numeric-valued attribute types; Includes cost data (donated by Peter Turney)', 'area': 'Life Science', 'tasks': ['Classification'], 'characteristics': ['Multivariate'], 'num_instances': 155, 'num_features': 19, 'feature_types': ['Categorical', 'Integer', 'Real'], 'demographics': [], 'target_col': ['Class'], 'index_col': None, 'has_missing_values': 'yes', 'missing_values_symbol': 'NaN', 'year_of_dataset_creation': 1983, 'last_updated': 'Tue Nov 01 1988', 'dataset_doi': '10.24432/C5Q59J', 'creators': [], 'intro_paper': None, 'additional_info': {'summary': 'Please ask Gail Gong for further information on this database.', 'purpose': None, 'funded_by': None, 'instances_represent': None, 'recommended_data_splits': None, 'sensitive_data': None, 'preprocessing_description': None, 'variable_info': '     1. Class: DIE, LIVE\\r\\n     2. AGE: 10, 20, 30, 40, 50, 60, 70, 80\\r\\n     3. SEX: male, female\\r\\n     4. STEROID: no, yes\\r\\n     5. ANTIVIRALS: no, yes\\r\\n     6. FATIGUE: no, yes\\r\\n     7. MALAISE: no, yes\\r\\n     8. ANOREXIA: no, yes\\r\\n     9. LIVER BIG: no, yes\\r\\n    10. LIVER FIRM: no, yes\\r\\n    11. SPLEEN PALPABLE: no, yes\\r\\n    12. SPIDERS: no, yes\\r\\n    13. ASCITES: no, yes\\r\\n    14. VARICES: no, yes\\r\\n    15. BILIRUBIN: 0.39, 0.80, 1.20, 2.00, 3.00, 4.00\\r\\n        -- see the note below\\r\\n    16. ALK PHOSPHATE: 33, 80, 120, 160, 200, 250\\r\\n    17. SGOT: 13, 100, 200, 300, 400, 500, \\r\\n    18. ALBUMIN: 2.1, 3.0, 3.8, 4.5, 5.0, 6.0\\r\\n    19. PROTIME: 10, 20, 30, 40, 50, 60, 70, 80, 90\\r\\n    20. HISTOLOGY: no, yes\\r\\n\\r\\nThe BILIRUBIN attribute appears to be continuously-valued.  I checked this with the donater, Bojan Cestnik, who replied:\\r\\n\\r\\n About the hepatitis database and BILIRUBIN problem I would like to say the following: BILIRUBIN is continuous attribute (= the number of it\\'s \"values\" in the ASDOHEPA.DAT file is negative!!!); \"values\" are quoted because when speaking about the continuous attribute there is no such thing as all possible values. However, they represent so called \"boundary\" values; according to these \"boundary\" values the attribute can be discretized. At the same time, because of the continious attribute, one can perform some other test since the continuous information is preserved. I hope that these lines have at least roughly answered your question. ', 'citation': None}}\n",
            "               name     role         type demographic description units  \\\n",
            "0             Class   Target  Categorical        None        None  None   \n",
            "1               Age  Feature      Integer        None        None  None   \n",
            "2               Sex  Feature  Categorical        None        None  None   \n",
            "3           Steroid  Feature  Categorical        None        None  None   \n",
            "4        Antivirals  Feature  Categorical        None        None  None   \n",
            "5           Fatigue  Feature  Categorical        None        None  None   \n",
            "6           Malaise  Feature  Categorical        None        None  None   \n",
            "7          Anorexia  Feature  Categorical        None        None  None   \n",
            "8         Liver Big  Feature  Categorical        None        None  None   \n",
            "9        Liver Firm  Feature  Categorical        None        None  None   \n",
            "10  Spleen Palpable  Feature  Categorical        None        None  None   \n",
            "11          Spiders  Feature  Categorical        None        None  None   \n",
            "12          Ascites  Feature  Categorical        None        None  None   \n",
            "13          Varices  Feature  Categorical        None        None  None   \n",
            "14        Bilirubin  Feature   Continuous        None        None  None   \n",
            "15    Alk Phosphate  Feature      Integer        None        None  None   \n",
            "16             Sgot  Feature      Integer        None        None  None   \n",
            "17          Albumin  Feature      Integer        None        None  None   \n",
            "18          Protime  Feature      Integer        None        None  None   \n",
            "19        Histology  Feature      Integer        None        None  None   \n",
            "\n",
            "   missing_values  \n",
            "0              no  \n",
            "1              no  \n",
            "2              no  \n",
            "3             yes  \n",
            "4              no  \n",
            "5             yes  \n",
            "6             yes  \n",
            "7             yes  \n",
            "8             yes  \n",
            "9             yes  \n",
            "10            yes  \n",
            "11            yes  \n",
            "12            yes  \n",
            "13            yes  \n",
            "14            yes  \n",
            "15            yes  \n",
            "16            yes  \n",
            "17            yes  \n",
            "18            yes  \n",
            "19             no  \n"
          ]
        }
      ]
    },
    {
      "cell_type": "code",
      "source": [
        "import tensorflow as tf\n",
        "from tensorflow import keras\n",
        "from sklearn.model_selection import train_test_split\n",
        "from sklearn.datasets import make_classification\n",
        "\n",
        "# Dados de exemplo\n",
        "X, y = make_classification(n_samples=1000, n_features=20, random_state=42)\n",
        "X_train, X_test, y_train, y_test = train_test_split(X, y, test_size=0.2, random_state=42)\n",
        "\n",
        "# Número de camadas e neurônios\n",
        "num_layers = 5  # Número de camadas escondidas\n",
        "num_neurons = 100  # Número de neurônios por camada\n",
        "\n",
        "# Modelo de rede neural\n",
        "model = keras.Sequential()\n",
        "\n",
        "# Camada de entrada\n",
        "model.add(keras.layers.InputLayer(input_shape=(X_train.shape[1],)))\n",
        "\n",
        "# Camadas escondidas com o número desejado de camadas e neurônios\n",
        "for _ in range(num_layers):\n",
        "    model.add(keras.layers.Dense(num_neurons, activation='relu'))\n",
        "\n",
        "# Camada de saída para classificação binária\n",
        "model.add(keras.layers.Dense(1, activation='sigmoid'))\n",
        "\n",
        "# Compilação do modelo\n",
        "model.compile(optimizer='adam', loss='binary_crossentropy', metrics=['accuracy'])\n",
        "\n",
        "# Treino do modelo\n",
        "model.fit(X_train, y_train, epochs=20, batch_size=32, validation_data=(X_test, y_test))\n",
        "\n",
        "# Avaliação do modelo no conjunto de teste\n",
        "loss, accuracy = model.evaluate(X_test, y_test)\n",
        "\n",
        "# Resultados\n",
        "print(\"Resultados:\")\n",
        "print(f\" - Número de camadas escondidas: {num_layers}\")\n",
        "print(f\" - Número de neurônios por camada: {num_neurons}\")\n",
        "print(f\" - Perda no conjunto de teste: {loss:.4f}\")\n",
        "print(f\" - Acurácia no conjunto de teste: {accuracy:.4f}\")"
      ],
      "metadata": {
        "colab": {
          "base_uri": "https://localhost:8080/"
        },
        "id": "M-Y5yekpSq19",
        "outputId": "c71f70ab-a15a-4845-d73f-db99633cc555"
      },
      "execution_count": 28,
      "outputs": [
        {
          "output_type": "stream",
          "name": "stdout",
          "text": [
            "Epoch 1/20\n",
            "25/25 [==============================] - 1s 8ms/step - loss: 0.5709 - accuracy: 0.7237 - val_loss: 0.4219 - val_accuracy: 0.8200\n",
            "Epoch 2/20\n",
            "25/25 [==============================] - 0s 3ms/step - loss: 0.3263 - accuracy: 0.8763 - val_loss: 0.3827 - val_accuracy: 0.8550\n",
            "Epoch 3/20\n",
            "25/25 [==============================] - 0s 3ms/step - loss: 0.2816 - accuracy: 0.8938 - val_loss: 0.3805 - val_accuracy: 0.8550\n",
            "Epoch 4/20\n",
            "25/25 [==============================] - 0s 3ms/step - loss: 0.2432 - accuracy: 0.9025 - val_loss: 0.3883 - val_accuracy: 0.8450\n",
            "Epoch 5/20\n",
            "25/25 [==============================] - 0s 3ms/step - loss: 0.2147 - accuracy: 0.9187 - val_loss: 0.4273 - val_accuracy: 0.8600\n",
            "Epoch 6/20\n",
            "25/25 [==============================] - 0s 3ms/step - loss: 0.1640 - accuracy: 0.9438 - val_loss: 0.4597 - val_accuracy: 0.8450\n",
            "Epoch 7/20\n",
            "25/25 [==============================] - 0s 3ms/step - loss: 0.1347 - accuracy: 0.9588 - val_loss: 0.4567 - val_accuracy: 0.8350\n",
            "Epoch 8/20\n",
            "25/25 [==============================] - 0s 3ms/step - loss: 0.0954 - accuracy: 0.9688 - val_loss: 0.5750 - val_accuracy: 0.8350\n",
            "Epoch 9/20\n",
            "25/25 [==============================] - 0s 3ms/step - loss: 0.0570 - accuracy: 0.9825 - val_loss: 0.6604 - val_accuracy: 0.8300\n",
            "Epoch 10/20\n",
            "25/25 [==============================] - 0s 3ms/step - loss: 0.0389 - accuracy: 0.9862 - val_loss: 0.7368 - val_accuracy: 0.8350\n",
            "Epoch 11/20\n",
            "25/25 [==============================] - 0s 3ms/step - loss: 0.0130 - accuracy: 0.9987 - val_loss: 0.8603 - val_accuracy: 0.8450\n",
            "Epoch 12/20\n",
            "25/25 [==============================] - 0s 3ms/step - loss: 0.0047 - accuracy: 1.0000 - val_loss: 0.9482 - val_accuracy: 0.8400\n",
            "Epoch 13/20\n",
            "25/25 [==============================] - 0s 3ms/step - loss: 0.0016 - accuracy: 1.0000 - val_loss: 1.0911 - val_accuracy: 0.8400\n",
            "Epoch 14/20\n",
            "25/25 [==============================] - 0s 3ms/step - loss: 9.4042e-04 - accuracy: 1.0000 - val_loss: 1.1241 - val_accuracy: 0.8400\n",
            "Epoch 15/20\n",
            "25/25 [==============================] - 0s 3ms/step - loss: 6.7579e-04 - accuracy: 1.0000 - val_loss: 1.1705 - val_accuracy: 0.8400\n",
            "Epoch 16/20\n",
            "25/25 [==============================] - 0s 3ms/step - loss: 5.2294e-04 - accuracy: 1.0000 - val_loss: 1.2011 - val_accuracy: 0.8400\n",
            "Epoch 17/20\n",
            "25/25 [==============================] - 0s 3ms/step - loss: 4.2395e-04 - accuracy: 1.0000 - val_loss: 1.2370 - val_accuracy: 0.8400\n",
            "Epoch 18/20\n",
            "25/25 [==============================] - 0s 3ms/step - loss: 3.4915e-04 - accuracy: 1.0000 - val_loss: 1.2619 - val_accuracy: 0.8400\n",
            "Epoch 19/20\n",
            "25/25 [==============================] - 0s 3ms/step - loss: 2.9452e-04 - accuracy: 1.0000 - val_loss: 1.2863 - val_accuracy: 0.8400\n",
            "Epoch 20/20\n",
            "25/25 [==============================] - 0s 3ms/step - loss: 2.5397e-04 - accuracy: 1.0000 - val_loss: 1.3095 - val_accuracy: 0.8400\n",
            "7/7 [==============================] - 0s 2ms/step - loss: 1.3095 - accuracy: 0.8400\n",
            "Resultados:\n",
            " - Número de camadas escondidas: 5\n",
            " - Número de neurônios por camada: 100\n",
            " - Perda no conjunto de teste: 1.3095\n",
            " - Acurácia no conjunto de teste: 0.8400\n"
          ]
        }
      ]
    }
  ]
}